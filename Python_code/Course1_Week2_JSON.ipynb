{
 "cells": [
  {
   "cell_type": "code",
   "execution_count": 1,
   "metadata": {},
   "outputs": [],
   "source": [
    "path = \"/Users/yaohanli/Downloads/yelp_dataset/review.json\""
   ]
  },
  {
   "cell_type": "code",
   "execution_count": 2,
   "metadata": {},
   "outputs": [],
   "source": [
    "f = open(path, 'r', encoding = 'utf8')"
   ]
  },
  {
   "cell_type": "code",
   "execution_count": 4,
   "metadata": {},
   "outputs": [],
   "source": [
    "lines = []\n",
    "for i in range(50000):\n",
    "    lines.append(f.readline())"
   ]
  },
  {
   "cell_type": "code",
   "execution_count": 5,
   "metadata": {},
   "outputs": [
    {
     "data": {
      "text/plain": [
       "'{\"review_id\":\"Q1sbwvVQXV2734tPgoKj4Q\",\"user_id\":\"hG7b0MtEbXx5QzbzE6C_VA\",\"business_id\":\"ujmEBvifdJM6h6RLv4wQIg\",\"stars\":1.0,\"useful\":6,\"funny\":1,\"cool\":0,\"text\":\"Total bill for this horrible service? Over $8Gs. These crooks actually had the nerve to charge us $69 for 3 pills. I checked online the pills can be had for 19 cents EACH! Avoid Hospital ERs at all costs.\",\"date\":\"2013-05-07 04:34:36\"}\\n'"
      ]
     },
     "execution_count": 5,
     "metadata": {},
     "output_type": "execute_result"
    }
   ],
   "source": [
    "lines[0]"
   ]
  },
  {
   "cell_type": "code",
   "execution_count": 6,
   "metadata": {},
   "outputs": [
    {
     "data": {
      "text/plain": [
       "{'review_id': 'Q1sbwvVQXV2734tPgoKj4Q',\n",
       " 'user_id': 'hG7b0MtEbXx5QzbzE6C_VA',\n",
       " 'business_id': 'ujmEBvifdJM6h6RLv4wQIg',\n",
       " 'stars': 1.0,\n",
       " 'useful': 6,\n",
       " 'funny': 1,\n",
       " 'cool': 0,\n",
       " 'text': 'Total bill for this horrible service? Over $8Gs. These crooks actually had the nerve to charge us $69 for 3 pills. I checked online the pills can be had for 19 cents EACH! Avoid Hospital ERs at all costs.',\n",
       " 'date': '2013-05-07 04:34:36'}"
      ]
     },
     "execution_count": 6,
     "metadata": {},
     "output_type": "execute_result"
    }
   ],
   "source": [
    "d = eval(lines[0])\n",
    "d\n",
    "## dict = eval(string)\n",
    "## dict = json.loads(string)"
   ]
  },
  {
   "cell_type": "code",
   "execution_count": 8,
   "metadata": {},
   "outputs": [
    {
     "data": {
      "text/plain": [
       "1.0"
      ]
     },
     "execution_count": 8,
     "metadata": {},
     "output_type": "execute_result"
    }
   ],
   "source": [
    "#d['user_id']\n",
    "d['stars']"
   ]
  },
  {
   "cell_type": "code",
   "execution_count": 9,
   "metadata": {},
   "outputs": [],
   "source": [
    "import json"
   ]
  },
  {
   "cell_type": "code",
   "execution_count": 11,
   "metadata": {},
   "outputs": [
    {
     "data": {
      "text/plain": [
       "{'review_id': 'Q1sbwvVQXV2734tPgoKj4Q',\n",
       " 'user_id': 'hG7b0MtEbXx5QzbzE6C_VA',\n",
       " 'business_id': 'ujmEBvifdJM6h6RLv4wQIg',\n",
       " 'stars': 1.0,\n",
       " 'useful': 6,\n",
       " 'funny': 1,\n",
       " 'cool': 0,\n",
       " 'text': 'Total bill for this horrible service? Over $8Gs. These crooks actually had the nerve to charge us $69 for 3 pills. I checked online the pills can be had for 19 cents EACH! Avoid Hospital ERs at all costs.',\n",
       " 'date': '2013-05-07 04:34:36'}"
      ]
     },
     "execution_count": 11,
     "metadata": {},
     "output_type": "execute_result"
    }
   ],
   "source": [
    "d = json.loads(lines[0])\n",
    "d"
   ]
  },
  {
   "cell_type": "code",
   "execution_count": 12,
   "metadata": {},
   "outputs": [],
   "source": [
    "path = \"/Users/yaohanli/Downloads/yelp_dataset/business.json\""
   ]
  },
  {
   "cell_type": "code",
   "execution_count": 13,
   "metadata": {},
   "outputs": [],
   "source": [
    "f = open(path, 'r', encoding = 'utf8')"
   ]
  },
  {
   "cell_type": "code",
   "execution_count": 15,
   "metadata": {},
   "outputs": [],
   "source": [
    "dataset = []\n",
    "for i in range(50000):\n",
    "    dataset.append(json.loads(f.readline()))"
   ]
  },
  {
   "cell_type": "code",
   "execution_count": 16,
   "metadata": {},
   "outputs": [
    {
     "data": {
      "text/plain": [
       "{'business_id': 'QXAEGFB4oINsVuTFxEYKFQ',\n",
       " 'name': 'Emerald Chinese Restaurant',\n",
       " 'address': '30 Eglinton Avenue W',\n",
       " 'city': 'Mississauga',\n",
       " 'state': 'ON',\n",
       " 'postal_code': 'L5R 3E7',\n",
       " 'latitude': 43.6054989743,\n",
       " 'longitude': -79.652288909,\n",
       " 'stars': 2.5,\n",
       " 'review_count': 128,\n",
       " 'is_open': 1,\n",
       " 'attributes': {'RestaurantsReservations': 'True',\n",
       "  'GoodForMeal': \"{'dessert': False, 'latenight': False, 'lunch': True, 'dinner': True, 'brunch': False, 'breakfast': False}\",\n",
       "  'BusinessParking': \"{'garage': False, 'street': False, 'validated': False, 'lot': True, 'valet': False}\",\n",
       "  'Caters': 'True',\n",
       "  'NoiseLevel': \"u'loud'\",\n",
       "  'RestaurantsTableService': 'True',\n",
       "  'RestaurantsTakeOut': 'True',\n",
       "  'RestaurantsPriceRange2': '2',\n",
       "  'OutdoorSeating': 'False',\n",
       "  'BikeParking': 'False',\n",
       "  'Ambience': \"{'romantic': False, 'intimate': False, 'classy': False, 'hipster': False, 'divey': False, 'touristy': False, 'trendy': False, 'upscale': False, 'casual': True}\",\n",
       "  'HasTV': 'False',\n",
       "  'WiFi': \"u'no'\",\n",
       "  'GoodForKids': 'True',\n",
       "  'Alcohol': \"u'full_bar'\",\n",
       "  'RestaurantsAttire': \"u'casual'\",\n",
       "  'RestaurantsGoodForGroups': 'True',\n",
       "  'RestaurantsDelivery': 'False'},\n",
       " 'categories': 'Specialty Food, Restaurants, Dim Sum, Imported Food, Food, Chinese, Ethnic Food, Seafood',\n",
       " 'hours': {'Monday': '9:0-0:0',\n",
       "  'Tuesday': '9:0-0:0',\n",
       "  'Wednesday': '9:0-0:0',\n",
       "  'Thursday': '9:0-0:0',\n",
       "  'Friday': '9:0-1:0',\n",
       "  'Saturday': '9:0-1:0',\n",
       "  'Sunday': '9:0-0:0'}}"
      ]
     },
     "execution_count": 16,
     "metadata": {},
     "output_type": "execute_result"
    }
   ],
   "source": [
    "dataset[0]"
   ]
  },
  {
   "cell_type": "code",
   "execution_count": 21,
   "metadata": {},
   "outputs": [
    {
     "data": {
      "text/plain": [
       "{'Monday': '9:0-0:0',\n",
       " 'Tuesday': '9:0-0:0',\n",
       " 'Wednesday': '9:0-0:0',\n",
       " 'Thursday': '9:0-0:0',\n",
       " 'Friday': '9:0-1:0',\n",
       " 'Saturday': '9:0-1:0',\n",
       " 'Sunday': '9:0-0:0'}"
      ]
     },
     "execution_count": 21,
     "metadata": {},
     "output_type": "execute_result"
    }
   ],
   "source": [
    "dataset[0]['hours']"
   ]
  },
  {
   "cell_type": "code",
   "execution_count": null,
   "metadata": {},
   "outputs": [],
   "source": []
  }
 ],
 "metadata": {
  "kernelspec": {
   "display_name": "Python 3",
   "language": "python",
   "name": "python3"
  },
  "language_info": {
   "codemirror_mode": {
    "name": "ipython",
    "version": 3
   },
   "file_extension": ".py",
   "mimetype": "text/x-python",
   "name": "python",
   "nbconvert_exporter": "python",
   "pygments_lexer": "ipython3",
   "version": "3.6.7"
  }
 },
 "nbformat": 4,
 "nbformat_minor": 2
}
